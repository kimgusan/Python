{
 "cells": [
  {
   "cell_type": "markdown",
   "id": "751bd191-d476-4ddc-b32a-fa9aa29de0e1",
   "metadata": {},
   "source": [
    "### 배열:10807:개수 세기"
   ]
  },
  {
   "cell_type": "code",
   "execution_count": 42,
   "id": "df32f0d8-bbfa-4591-b7e1-2361faaf6107",
   "metadata": {},
   "outputs": [
    {
     "name": "stdin",
     "output_type": "stream",
     "text": [
      " 11\n",
      " 1 4 1 2 4 2 4 2 3 4 4\n",
      " 5\n"
     ]
    },
    {
     "name": "stdout",
     "output_type": "stream",
     "text": [
      "0\n"
     ]
    }
   ],
   "source": [
    "def find_count(count):\n",
    "    numbers = tuple(map(int, input().split()))\n",
    "    return numbers\n",
    "\n",
    "count = int(input())\n",
    "\n",
    "all_tuple = find_count(count)\n",
    "find_number = int(input())\n",
    "\n",
    "print(all_tuple.count(find_number))"
   ]
  },
  {
   "cell_type": "markdown",
   "id": "92917572-29fd-4098-9f52-38c28e91137a",
   "metadata": {},
   "source": [
    "### 배열:10871:X 보다 작은 수"
   ]
  },
  {
   "cell_type": "code",
   "execution_count": 57,
   "id": "39d34250-785b-4d04-94c0-971cae3fbd3f",
   "metadata": {},
   "outputs": [
    {
     "name": "stdin",
     "output_type": "stream",
     "text": [
      " 10 5\n",
      " 1 10 4 9 2 3 8 5 7 6\n"
     ]
    },
    {
     "name": "stdout",
     "output_type": "stream",
     "text": [
      "1 4 2 3 "
     ]
    }
   ],
   "source": [
    "def min_number(count, rownum):\n",
    "    numbers = tuple(map(int, input().split()))\n",
    "    rownumber_list = []\n",
    "    for i in numbers:\n",
    "        if i < rownum:\n",
    "            rownumber_list.append(i)\n",
    "    return rownumber_list\n",
    "\n",
    "\n",
    "count, rownum = map(int, input().split())\n",
    "\n",
    "numbers = min_number(count, rownum)\n",
    "\n",
    "for i in range(len(numbers)):\n",
    "    print(numbers[i], end = ' ')\n"
   ]
  },
  {
   "cell_type": "markdown",
   "id": "4d6f0343-3ac1-4b84-9d28-a46f5069e94d",
   "metadata": {},
   "source": [
    "### 배열:10818:최소, 최대"
   ]
  },
  {
   "cell_type": "code",
   "execution_count": 5,
   "id": "bd56c1a2-5cd2-4755-90fe-2457c7d5b5a8",
   "metadata": {},
   "outputs": [
    {
     "name": "stdin",
     "output_type": "stream",
     "text": [
      " 5\n",
      " 20 10 35 30 7\n"
     ]
    },
    {
     "name": "stdout",
     "output_type": "stream",
     "text": [
      "7\n",
      "7 35\n"
     ]
    }
   ],
   "source": [
    "def function_min_max(t_count):\n",
    "    numbers = tuple(map(int, input().split()))\n",
    "    min_number = min(numbers)\n",
    "    max_number = max(numbers)\n",
    "    return min_number, max_number\n",
    "\n",
    "\n",
    "t_count = int(input())\n",
    "min_num, max_num = function_min_max(t_count)\n",
    "print(min_num, max_num)\n"
   ]
  },
  {
   "cell_type": "markdown",
   "id": "fb33c2c8-e32b-43ed-814a-f49043bea8b2",
   "metadata": {},
   "source": [
    "### 배열:2562번:최댓값"
   ]
  },
  {
   "cell_type": "code",
   "execution_count": 9,
   "id": "90eddea6-a0d3-486a-a996-6c3a166a39ef",
   "metadata": {},
   "outputs": [
    {
     "name": "stdin",
     "output_type": "stream",
     "text": [
      " 3\n",
      " 29\n",
      " 38\n",
      " 12\n",
      " 57\n",
      " 74\n",
      " 40\n",
      " 85\n",
      " 61\n"
     ]
    },
    {
     "name": "stdout",
     "output_type": "stream",
     "text": [
      "85\n",
      "8\n"
     ]
    }
   ],
   "source": [
    "numbers = []\n",
    "for i in range(9):\n",
    "    numbers.append(int(input()))\n",
    "\n",
    "max_number = max(numbers)\n",
    "max_index = numbers.index(max_number) + 1\n",
    "print(max_number, max_index, sep = '\\n')\n",
    "    "
   ]
  },
  {
   "cell_type": "markdown",
   "id": "2366477a-64d0-435a-9166-01f39f219324",
   "metadata": {},
   "source": [
    "### 배열:10810:공 넣기"
   ]
  },
  {
   "cell_type": "code",
   "execution_count": 12,
   "id": "f1b7a32e-8f3b-418c-9c8e-7ef5985b6ee6",
   "metadata": {},
   "outputs": [
    {
     "name": "stdin",
     "output_type": "stream",
     "text": [
      " 5 4\n",
      " 1 2 3\n",
      " 3 2 1\n",
      " 1 1 1\n",
      " 2 4 2\n"
     ]
    },
    {
     "name": "stdout",
     "output_type": "stream",
     "text": [
      "1 2 2 2 0 "
     ]
    }
   ],
   "source": [
    "poket_num, limit_num = map(int, input().split())\n",
    "\n",
    "def choice_poket(poket_num, limit_num):\n",
    "    zero_list = [0] * poket_num\n",
    "    for i in range(limit_num):\n",
    "        start_num, end_num, change_num = map(int, input().split())\n",
    "        for j in range(start_num-1, end_num):\n",
    "            zero_list[j] = change_num\n",
    "    return zero_list\n",
    "\n",
    "results = choice_poket(poket_num, limit_num)\n",
    "for result in results:\n",
    "    print(result, end=' ')"
   ]
  },
  {
   "cell_type": "markdown",
   "id": "b4120b4d-0954-498c-ad56-2353abb5f2a3",
   "metadata": {},
   "source": [
    "### 배열:10813:공 바꾸기"
   ]
  },
  {
   "cell_type": "code",
   "execution_count": 8,
   "id": "f1c26b26-e592-44f3-aa4c-39183ecd0331",
   "metadata": {},
   "outputs": [
    {
     "name": "stdin",
     "output_type": "stream",
     "text": [
      " 5 4\n",
      " 1 2\n"
     ]
    },
    {
     "name": "stdout",
     "output_type": "stream",
     "text": [
      "1 2\n"
     ]
    },
    {
     "name": "stdin",
     "output_type": "stream",
     "text": [
      " 3 4\n"
     ]
    },
    {
     "name": "stdout",
     "output_type": "stream",
     "text": [
      "3 4\n"
     ]
    },
    {
     "name": "stdin",
     "output_type": "stream",
     "text": [
      " 1 4\n"
     ]
    },
    {
     "name": "stdout",
     "output_type": "stream",
     "text": [
      "2 3\n"
     ]
    },
    {
     "name": "stdin",
     "output_type": "stream",
     "text": [
      " 2 2\n"
     ]
    },
    {
     "name": "stdout",
     "output_type": "stream",
     "text": [
      "1 1\n",
      "3 1 4 2 5 "
     ]
    }
   ],
   "source": [
    "poket_number, limit_number = map(int, input().split())\n",
    "\n",
    "def change_poket(poket_number, limit_number):\n",
    "    poket_list = []\n",
    "    for i in range(poket_number):\n",
    "        poket_list.append(i + 1)\n",
    "\n",
    "    for j in range(limit_number):\n",
    "        index1, index2 = map(int, input().split())\n",
    "        origin_number1 = poket_list[index1-1]\n",
    "        origin_number2 = poket_list[index2-1]\n",
    "        poket_list[index1-1] = origin_number2\n",
    "        poket_list[index2-1] = origin_number1\n",
    "    return poket_list\n",
    "\n",
    "result = change_poket(poket_number, limit_number)\n",
    "\n",
    "for number in result:\n",
    "    print(number, end = ' ')\n"
   ]
  },
  {
   "cell_type": "markdown",
   "id": "48c77825-3efe-4e4e-aab2-bc8ab9ac19c8",
   "metadata": {},
   "source": [
    "### 배열:5597:과제 안 내신 분?"
   ]
  },
  {
   "cell_type": "code",
   "execution_count": 24,
   "id": "04327adc-1fd3-42ec-8d09-ee7279bbb29f",
   "metadata": {},
   "outputs": [
    {
     "name": "stdin",
     "output_type": "stream",
     "text": [
      " 1\n",
      " 2\n",
      " 3\n"
     ]
    },
    {
     "name": "stdout",
     "output_type": "stream",
     "text": [
      "[4, 5]\n",
      "4\n",
      "5\n"
     ]
    }
   ],
   "source": [
    "def check_task():\n",
    "    student_list = []\n",
    "    for i in range(30):\n",
    "        student_list.append(i + 1)\n",
    "\n",
    "    for j in range(28):\n",
    "        student_num = int(input())\n",
    "        student_list.remove(student_num)\n",
    "    return student_list\n",
    "    \n",
    "result = check_task()\n",
    "\n",
    "for i in sorted(result):\n",
    "    print(i)"
   ]
  },
  {
   "cell_type": "markdown",
   "id": "9824775a-c808-435c-b3df-d713f44a7ae3",
   "metadata": {},
   "source": [
    "### 배열:3052:나머지"
   ]
  },
  {
   "cell_type": "code",
   "execution_count": 38,
   "id": "b0c5db1f-b534-4444-bd36-f748e648fe53",
   "metadata": {},
   "outputs": [
    {
     "name": "stdin",
     "output_type": "stream",
     "text": [
      " 39\n",
      " 40\n",
      " 41\n",
      " 42\n",
      " 43\n",
      " 44\n",
      " 82\n",
      " 83\n",
      " 84\n",
      " 85\n"
     ]
    },
    {
     "name": "stdout",
     "output_type": "stream",
     "text": [
      "6\n"
     ]
    }
   ],
   "source": [
    "def division():\n",
    "    numbers = set()\n",
    "    for i in range(10):\n",
    "        origin_number = int(input())\n",
    "        div_result = origin_number % 42\n",
    "        numbers.add(div_result)\n",
    "    return numbers\n",
    "\n",
    "result = division()\n",
    "print(len(result))    "
   ]
  },
  {
   "cell_type": "markdown",
   "id": "51ef088c-d9c0-4c7a-baea-a08f87995c64",
   "metadata": {},
   "source": [
    "### 배열:10811:바구니 뒤집기"
   ]
  },
  {
   "cell_type": "code",
   "execution_count": null,
   "id": "af1f174b-f42e-4815-8942-738744943f84",
   "metadata": {},
   "outputs": [],
   "source": [
    "def poket():\n",
    "    numbers = []\n",
    "    t_number, limit_number = map(int, input().split())\n",
    "    for i in range(t_number):\n",
    "        numbers.append(i + 1)\n",
    "\n",
    "    for j in range(limit_number):\n",
    "        l_number, r_number = map(int, input().split())\n",
    "        numbers[l_number - 1:r_number] = reversed(numbers[l_number - 1:r_number])\n",
    "    return numbers\n",
    "\n",
    "result = poket()\n",
    "for i in range(len(result)):\n",
    "    print(result[i], end = ' ')"
   ]
  },
  {
   "cell_type": "markdown",
   "id": "6dba7128-e82f-4090-95e9-977204c0685a",
   "metadata": {},
   "source": [
    "### 배열:1546:평균"
   ]
  },
  {
   "cell_type": "code",
   "execution_count": null,
   "id": "5b941041-ed32-4e83-bfb9-e4d945255fac",
   "metadata": {},
   "outputs": [],
   "source": [
    "def average():\n",
    "    number = int(input())\n",
    "    score1, score2, score3 = map(int, input().split())\n",
    "    \n"
   ]
  },
  {
   "cell_type": "code",
   "execution_count": null,
   "id": "a6278076-6fb0-4386-9761-edd39fdc6630",
   "metadata": {},
   "outputs": [],
   "source": []
  },
  {
   "cell_type": "code",
   "execution_count": null,
   "id": "f48548e6-8cd1-4f68-a3d1-e7fcdb2c72d2",
   "metadata": {},
   "outputs": [],
   "source": []
  },
  {
   "cell_type": "code",
   "execution_count": null,
   "id": "95068e21-037c-47e4-aa60-aef563c05191",
   "metadata": {},
   "outputs": [],
   "source": []
  }
 ],
 "metadata": {
  "kernelspec": {
   "display_name": "Python 3 (ipykernel)",
   "language": "python",
   "name": "python3"
  },
  "language_info": {
   "codemirror_mode": {
    "name": "ipython",
    "version": 3
   },
   "file_extension": ".py",
   "mimetype": "text/x-python",
   "name": "python",
   "nbconvert_exporter": "python",
   "pygments_lexer": "ipython3",
   "version": "3.11.8"
  }
 },
 "nbformat": 4,
 "nbformat_minor": 5
}
