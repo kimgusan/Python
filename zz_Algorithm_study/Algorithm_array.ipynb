{
 "cells": [
  {
   "cell_type": "markdown",
   "id": "751bd191-d476-4ddc-b32a-fa9aa29de0e1",
   "metadata": {},
   "source": [
    "### 배열:10807:개수 세기"
   ]
  },
  {
   "cell_type": "code",
   "execution_count": 17,
   "id": "df32f0d8-bbfa-4591-b7e1-2361faaf6107",
   "metadata": {},
   "outputs": [
    {
     "name": "stdin",
     "output_type": "stream",
     "text": [
      " 4\n",
      " 1\n",
      " 2\n",
      " 3\n",
      " 4\n"
     ]
    },
    {
     "name": "stdout",
     "output_type": "stream",
     "text": [
      "[0, 0, 0, 0]\n"
     ]
    }
   ],
   "source": [
    "list_count = int(input())\n",
    "1 <= list_count <= 100\n",
    "\n",
    "\n",
    "def find_count(list_count):\n",
    "    numbers = [0] * list_count\n",
    "    for i in range(len(numbers)):\n",
    "        num = map(int, input().split())\n",
    "        # number = int(input())\n",
    "        number = numbers[i]\n",
    "    return numbers\n",
    "\n",
    "print(find_count(list_count))\n",
    "\n",
    "# find_number = int(input())\n",
    "\n"
   ]
  },
  {
   "cell_type": "code",
   "execution_count": null,
   "id": "27199e61-9342-416f-8d1c-1471a6dfeea2",
   "metadata": {},
   "outputs": [],
   "source": []
  },
  {
   "cell_type": "code",
   "execution_count": null,
   "id": "1ded0bcc-bd60-4e77-a262-0c075fe9a967",
   "metadata": {},
   "outputs": [],
   "source": []
  },
  {
   "cell_type": "code",
   "execution_count": null,
   "id": "39d34250-785b-4d04-94c0-971cae3fbd3f",
   "metadata": {},
   "outputs": [],
   "source": []
  },
  {
   "cell_type": "code",
   "execution_count": null,
   "id": "816d0573-4720-4858-9a19-9523c066894e",
   "metadata": {},
   "outputs": [],
   "source": []
  },
  {
   "cell_type": "code",
   "execution_count": null,
   "id": "bd56c1a2-5cd2-4755-90fe-2457c7d5b5a8",
   "metadata": {},
   "outputs": [],
   "source": []
  }
 ],
 "metadata": {
  "kernelspec": {
   "display_name": "Python 3 (ipykernel)",
   "language": "python",
   "name": "python3"
  },
  "language_info": {
   "codemirror_mode": {
    "name": "ipython",
    "version": 3
   },
   "file_extension": ".py",
   "mimetype": "text/x-python",
   "name": "python",
   "nbconvert_exporter": "python",
   "pygments_lexer": "ipython3",
   "version": "3.11.8"
  }
 },
 "nbformat": 4,
 "nbformat_minor": 5
}
