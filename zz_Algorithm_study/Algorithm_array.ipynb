{
 "cells": [
  {
   "cell_type": "markdown",
   "id": "751bd191-d476-4ddc-b32a-fa9aa29de0e1",
   "metadata": {},
   "source": [
    "### 배열:10807:개수 세기"
   ]
  },
  {
   "cell_type": "code",
   "execution_count": 42,
   "id": "df32f0d8-bbfa-4591-b7e1-2361faaf6107",
   "metadata": {},
   "outputs": [
    {
     "name": "stdin",
     "output_type": "stream",
     "text": [
      " 11\n",
      " 1 4 1 2 4 2 4 2 3 4 4\n",
      " 5\n"
     ]
    },
    {
     "name": "stdout",
     "output_type": "stream",
     "text": [
      "0\n"
     ]
    }
   ],
   "source": [
    "def find_count(count):\n",
    "    numbers = tuple(map(int, input().split()))\n",
    "    return numbers\n",
    "\n",
    "count = int(input())\n",
    "\n",
    "all_tuple = find_count(count)\n",
    "find_number = int(input())\n",
    "\n",
    "print(all_tuple.count(find_number))"
   ]
  },
  {
   "cell_type": "markdown",
   "id": "92917572-29fd-4098-9f52-38c28e91137a",
   "metadata": {},
   "source": [
    "### 배열:10871:X 보다 작은 수"
   ]
  },
  {
   "cell_type": "code",
   "execution_count": 57,
   "id": "39d34250-785b-4d04-94c0-971cae3fbd3f",
   "metadata": {},
   "outputs": [
    {
     "name": "stdin",
     "output_type": "stream",
     "text": [
      " 10 5\n",
      " 1 10 4 9 2 3 8 5 7 6\n"
     ]
    },
    {
     "name": "stdout",
     "output_type": "stream",
     "text": [
      "1 4 2 3 "
     ]
    }
   ],
   "source": [
    "def min_number(count, rownum):\n",
    "    numbers = tuple(map(int, input().split()))\n",
    "    rownumber_list = []\n",
    "    for i in numbers:\n",
    "        if i < rownum:\n",
    "            rownumber_list.append(i)\n",
    "    return rownumber_list\n",
    "\n",
    "\n",
    "count, rownum = map(int, input().split())\n",
    "\n",
    "numbers = min_number(count, rownum)\n",
    "\n",
    "for i in range(len(numbers)):\n",
    "    print(numbers[i], end = ' ')\n"
   ]
  },
  {
   "cell_type": "markdown",
   "id": "4d6f0343-3ac1-4b84-9d28-a46f5069e94d",
   "metadata": {},
   "source": [
    "### 배열:10818:최소, 최대"
   ]
  },
  {
   "cell_type": "code",
   "execution_count": 5,
   "id": "bd56c1a2-5cd2-4755-90fe-2457c7d5b5a8",
   "metadata": {},
   "outputs": [
    {
     "name": "stdin",
     "output_type": "stream",
     "text": [
      " 5\n",
      " 20 10 35 30 7\n"
     ]
    },
    {
     "name": "stdout",
     "output_type": "stream",
     "text": [
      "7\n",
      "7 35\n"
     ]
    }
   ],
   "source": [
    "def function_min_max(t_count):\n",
    "    numbers = tuple(map(int, input().split()))\n",
    "    min_number = min(numbers)\n",
    "    max_number = max(numbers)\n",
    "    return min_number, max_number\n",
    "\n",
    "\n",
    "t_count = int(input())\n",
    "min_num, max_num = function_min_max(t_count)\n",
    "print(min_num, max_num)\n"
   ]
  },
  {
   "cell_type": "markdown",
   "id": "fb33c2c8-e32b-43ed-814a-f49043bea8b2",
   "metadata": {},
   "source": [
    "### 배열:2562번:최댓값"
   ]
  },
  {
   "cell_type": "code",
   "execution_count": 9,
   "id": "90eddea6-a0d3-486a-a996-6c3a166a39ef",
   "metadata": {},
   "outputs": [
    {
     "name": "stdin",
     "output_type": "stream",
     "text": [
      " 3\n",
      " 29\n",
      " 38\n",
      " 12\n",
      " 57\n",
      " 74\n",
      " 40\n",
      " 85\n",
      " 61\n"
     ]
    },
    {
     "name": "stdout",
     "output_type": "stream",
     "text": [
      "85\n",
      "8\n"
     ]
    }
   ],
   "source": [
    "numbers = []\n",
    "for i in range(9):\n",
    "    numbers.append(int(input()))\n",
    "\n",
    "max_number = max(numbers)\n",
    "max_index = numbers.index(max_number) + 1\n",
    "print(max_number, max_index, sep = '\\n')\n",
    "    "
   ]
  },
  {
   "cell_type": "markdown",
   "id": "2366477a-64d0-435a-9166-01f39f219324",
   "metadata": {},
   "source": [
    "### 배열:10810:공 넣기"
   ]
  },
  {
   "cell_type": "code",
   "execution_count": 12,
   "id": "f1b7a32e-8f3b-418c-9c8e-7ef5985b6ee6",
   "metadata": {},
   "outputs": [
    {
     "name": "stdin",
     "output_type": "stream",
     "text": [
      " 5 4\n",
      " 1 2 3\n",
      " 3 2 1\n",
      " 1 1 1\n",
      " 2 4 2\n"
     ]
    },
    {
     "name": "stdout",
     "output_type": "stream",
     "text": [
      "1 2 2 2 0 "
     ]
    }
   ],
   "source": [
    "poket_num, limit_num = map(int, input().split())\n",
    "\n",
    "def choice_poket(poket_num, limit_num):\n",
    "    zero_list = [0] * poket_num\n",
    "    for i in range(limit_num):\n",
    "        start_num, end_num, change_num = map(int, input().split())\n",
    "        for j in range(start_num-1, end_num):\n",
    "            zero_list[j] = change_num\n",
    "    return zero_list\n",
    "\n",
    "results = choice_poket(poket_num, limit_num)\n",
    "for result in results:\n",
    "    print(result, end=' ')"
   ]
  },
  {
   "cell_type": "markdown",
   "id": "b4120b4d-0954-498c-ad56-2353abb5f2a3",
   "metadata": {},
   "source": [
    "### 배열:10813:공 바꾸기"
   ]
  },
  {
   "cell_type": "code",
   "execution_count": 4,
   "id": "8d881f6c-8d32-4d37-b4fe-7e93707369cd",
   "metadata": {},
   "outputs": [
    {
     "name": "stdin",
     "output_type": "stream",
     "text": [
      " 5 4\n",
      " 1 2\n"
     ]
    },
    {
     "name": "stdout",
     "output_type": "stream",
     "text": [
      "[2, 1, 3, 4, 5]\n"
     ]
    },
    {
     "name": "stdin",
     "output_type": "stream",
     "text": [
      " 3 4\n"
     ]
    },
    {
     "name": "stdout",
     "output_type": "stream",
     "text": [
      "[2, 1, 4, 3, 5]\n"
     ]
    },
    {
     "name": "stdin",
     "output_type": "stream",
     "text": [
      " 1 4\n"
     ]
    },
    {
     "name": "stdout",
     "output_type": "stream",
     "text": [
      "[2, 4, 1, 3, 5]\n"
     ]
    },
    {
     "ename": "KeyboardInterrupt",
     "evalue": "Interrupted by user",
     "output_type": "error",
     "traceback": [
      "\u001b[0;31m---------------------------------------------------------------------------\u001b[0m",
      "\u001b[0;31mKeyboardInterrupt\u001b[0m                         Traceback (most recent call last)",
      "Cell \u001b[0;32mIn[4], line 17\u001b[0m\n\u001b[1;32m     14\u001b[0m         \u001b[38;5;28mprint\u001b[39m(poket_list)\n\u001b[1;32m     15\u001b[0m     \u001b[38;5;28;01mreturn\u001b[39;00m poket_list\n\u001b[0;32m---> 17\u001b[0m \u001b[38;5;28mprint\u001b[39m(change_poket(poket_number, limit_number))\n",
      "Cell \u001b[0;32mIn[4], line 9\u001b[0m, in \u001b[0;36mchange_poket\u001b[0;34m(poket_number, limit_number)\u001b[0m\n\u001b[1;32m      6\u001b[0m     poket_list\u001b[38;5;241m.\u001b[39mappend(i \u001b[38;5;241m+\u001b[39m \u001b[38;5;241m1\u001b[39m)\n\u001b[1;32m      8\u001b[0m \u001b[38;5;28;01mfor\u001b[39;00m j \u001b[38;5;129;01min\u001b[39;00m \u001b[38;5;28mrange\u001b[39m(limit_number):\n\u001b[0;32m----> 9\u001b[0m     change_num1, change_num2 \u001b[38;5;241m=\u001b[39m \u001b[38;5;28mmap\u001b[39m(\u001b[38;5;28mint\u001b[39m, \u001b[38;5;28minput\u001b[39m()\u001b[38;5;241m.\u001b[39msplit())\n\u001b[1;32m     10\u001b[0m     index1 \u001b[38;5;241m=\u001b[39m poket_list\u001b[38;5;241m.\u001b[39mindex(change_num1)\n\u001b[1;32m     11\u001b[0m     index2 \u001b[38;5;241m=\u001b[39m poket_list\u001b[38;5;241m.\u001b[39mindex(change_num2)\n",
      "File \u001b[0;32m/opt/anaconda3/lib/python3.11/site-packages/ipykernel/kernelbase.py:1262\u001b[0m, in \u001b[0;36mKernel.raw_input\u001b[0;34m(self, prompt)\u001b[0m\n\u001b[1;32m   1260\u001b[0m     msg \u001b[38;5;241m=\u001b[39m \u001b[38;5;124m\"\u001b[39m\u001b[38;5;124mraw_input was called, but this frontend does not support input requests.\u001b[39m\u001b[38;5;124m\"\u001b[39m\n\u001b[1;32m   1261\u001b[0m     \u001b[38;5;28;01mraise\u001b[39;00m StdinNotImplementedError(msg)\n\u001b[0;32m-> 1262\u001b[0m \u001b[38;5;28;01mreturn\u001b[39;00m \u001b[38;5;28mself\u001b[39m\u001b[38;5;241m.\u001b[39m_input_request(\n\u001b[1;32m   1263\u001b[0m     \u001b[38;5;28mstr\u001b[39m(prompt),\n\u001b[1;32m   1264\u001b[0m     \u001b[38;5;28mself\u001b[39m\u001b[38;5;241m.\u001b[39m_parent_ident[\u001b[38;5;124m\"\u001b[39m\u001b[38;5;124mshell\u001b[39m\u001b[38;5;124m\"\u001b[39m],\n\u001b[1;32m   1265\u001b[0m     \u001b[38;5;28mself\u001b[39m\u001b[38;5;241m.\u001b[39mget_parent(\u001b[38;5;124m\"\u001b[39m\u001b[38;5;124mshell\u001b[39m\u001b[38;5;124m\"\u001b[39m),\n\u001b[1;32m   1266\u001b[0m     password\u001b[38;5;241m=\u001b[39m\u001b[38;5;28;01mFalse\u001b[39;00m,\n\u001b[1;32m   1267\u001b[0m )\n",
      "File \u001b[0;32m/opt/anaconda3/lib/python3.11/site-packages/ipykernel/kernelbase.py:1305\u001b[0m, in \u001b[0;36mKernel._input_request\u001b[0;34m(self, prompt, ident, parent, password)\u001b[0m\n\u001b[1;32m   1302\u001b[0m \u001b[38;5;28;01mexcept\u001b[39;00m \u001b[38;5;167;01mKeyboardInterrupt\u001b[39;00m:\n\u001b[1;32m   1303\u001b[0m     \u001b[38;5;66;03m# re-raise KeyboardInterrupt, to truncate traceback\u001b[39;00m\n\u001b[1;32m   1304\u001b[0m     msg \u001b[38;5;241m=\u001b[39m \u001b[38;5;124m\"\u001b[39m\u001b[38;5;124mInterrupted by user\u001b[39m\u001b[38;5;124m\"\u001b[39m\n\u001b[0;32m-> 1305\u001b[0m     \u001b[38;5;28;01mraise\u001b[39;00m \u001b[38;5;167;01mKeyboardInterrupt\u001b[39;00m(msg) \u001b[38;5;28;01mfrom\u001b[39;00m \u001b[38;5;28;01mNone\u001b[39;00m\n\u001b[1;32m   1306\u001b[0m \u001b[38;5;28;01mexcept\u001b[39;00m \u001b[38;5;167;01mException\u001b[39;00m:\n\u001b[1;32m   1307\u001b[0m     \u001b[38;5;28mself\u001b[39m\u001b[38;5;241m.\u001b[39mlog\u001b[38;5;241m.\u001b[39mwarning(\u001b[38;5;124m\"\u001b[39m\u001b[38;5;124mInvalid Message:\u001b[39m\u001b[38;5;124m\"\u001b[39m, exc_info\u001b[38;5;241m=\u001b[39m\u001b[38;5;28;01mTrue\u001b[39;00m)\n",
      "\u001b[0;31mKeyboardInterrupt\u001b[0m: Interrupted by user"
     ]
    }
   ],
   "source": [
    "poket_number, limit_number = map(int, input().split())\n",
    "\n",
    "def change_poket(poket_number, limit_number):\n",
    "    poket_list = []\n",
    "    for i in range(poket_number):\n",
    "        poket_list.append(i + 1)\n",
    "\n",
    "    for j in range(limit_number):\n",
    "        change_num1, change_num2 = map(int, input().split())\n",
    "        index1 = poket_list.index(change_num1)\n",
    "        index2 = poket_list.index(change_num2)\n",
    "        poket_list[index1] = change_num2\n",
    "        poket_list[index2] = change_num1\n",
    "        print(poket_list)\n",
    "    return poket_list\n",
    "\n",
    "print(change_poket(poket_number, limit_number))"
   ]
  },
  {
   "cell_type": "markdown",
   "id": "48c77825-3efe-4e4e-aab2-bc8ab9ac19c8",
   "metadata": {},
   "source": [
    "### 배열:5597:과제 안 내신 분?"
   ]
  },
  {
   "cell_type": "code",
   "execution_count": null,
   "id": "04327adc-1fd3-42ec-8d09-ee7279bbb29f",
   "metadata": {},
   "outputs": [],
   "source": [
    "def check_task():\n",
    "    student_list = []\n",
    "    for i in range(30):\n",
    "        student_list.append(i + 1)\n",
    "\n",
    "    for j in range(28):\n",
    "        student_num = int(input())\n",
    "        student_list.remove(student_num)\n",
    "    return student_list\n",
    "    \n",
    "non_student = check_task()\n",
    "for i in non_student:\n",
    "    print(i, end = ' ')\n",
    "            \n",
    "\n"
   ]
  }
 ],
 "metadata": {
  "kernelspec": {
   "display_name": "Python 3 (ipykernel)",
   "language": "python",
   "name": "python3"
  },
  "language_info": {
   "codemirror_mode": {
    "name": "ipython",
    "version": 3
   },
   "file_extension": ".py",
   "mimetype": "text/x-python",
   "name": "python",
   "nbconvert_exporter": "python",
   "pygments_lexer": "ipython3",
   "version": "3.11.8"
  }
 },
 "nbformat": 4,
 "nbformat_minor": 5
}
