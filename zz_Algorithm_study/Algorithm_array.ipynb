{
 "cells": [
  {
   "cell_type": "markdown",
   "id": "751bd191-d476-4ddc-b32a-fa9aa29de0e1",
   "metadata": {},
   "source": [
    "### 배열:10807:개수 세기"
   ]
  },
  {
   "cell_type": "code",
   "execution_count": 42,
   "id": "df32f0d8-bbfa-4591-b7e1-2361faaf6107",
   "metadata": {},
   "outputs": [
    {
     "name": "stdin",
     "output_type": "stream",
     "text": [
      " 11\n",
      " 1 4 1 2 4 2 4 2 3 4 4\n",
      " 5\n"
     ]
    },
    {
     "name": "stdout",
     "output_type": "stream",
     "text": [
      "0\n"
     ]
    }
   ],
   "source": [
    "def find_count(count):\n",
    "    numbers = tuple(map(int, input().split()))\n",
    "    return numbers\n",
    "\n",
    "count = int(input())\n",
    "\n",
    "all_tuple = find_count(count)\n",
    "find_number = int(input())\n",
    "\n",
    "print(all_tuple.count(find_number))"
   ]
  },
  {
   "cell_type": "markdown",
   "id": "92917572-29fd-4098-9f52-38c28e91137a",
   "metadata": {},
   "source": [
    "### 배열:10871:X 보다 작은 수"
   ]
  },
  {
   "cell_type": "code",
   "execution_count": 57,
   "id": "39d34250-785b-4d04-94c0-971cae3fbd3f",
   "metadata": {},
   "outputs": [
    {
     "name": "stdin",
     "output_type": "stream",
     "text": [
      " 10 5\n",
      " 1 10 4 9 2 3 8 5 7 6\n"
     ]
    },
    {
     "name": "stdout",
     "output_type": "stream",
     "text": [
      "1 4 2 3 "
     ]
    }
   ],
   "source": [
    "def min_number(count, rownum):\n",
    "    numbers = tuple(map(int, input().split()))\n",
    "    rownumber_list = []\n",
    "    for i in numbers:\n",
    "        if i < rownum:\n",
    "            rownumber_list.append(i)\n",
    "    return rownumber_list\n",
    "\n",
    "\n",
    "count, rownum = map(int, input().split())\n",
    "\n",
    "numbers = min_number(count, rownum)\n",
    "\n",
    "for i in range(len(numbers)):\n",
    "    print(numbers[i], end = ' ')\n"
   ]
  },
  {
   "cell_type": "markdown",
   "id": "4d6f0343-3ac1-4b84-9d28-a46f5069e94d",
   "metadata": {},
   "source": [
    "### 배열:10818:최소, 최대"
   ]
  },
  {
   "cell_type": "code",
   "execution_count": 5,
   "id": "bd56c1a2-5cd2-4755-90fe-2457c7d5b5a8",
   "metadata": {},
   "outputs": [
    {
     "name": "stdin",
     "output_type": "stream",
     "text": [
      " 5\n",
      " 20 10 35 30 7\n"
     ]
    },
    {
     "name": "stdout",
     "output_type": "stream",
     "text": [
      "7\n",
      "7 35\n"
     ]
    }
   ],
   "source": [
    "def function_min_max(t_count):\n",
    "    numbers = tuple(map(int, input().split()))\n",
    "    min_number = min(numbers)\n",
    "    max_number = max(numbers)\n",
    "    return min_number, max_number\n",
    "\n",
    "\n",
    "t_count = int(input())\n",
    "min_num, max_num = function_min_max(t_count)\n",
    "print(min_num, max_num)\n"
   ]
  },
  {
   "cell_type": "markdown",
   "id": "fb33c2c8-e32b-43ed-814a-f49043bea8b2",
   "metadata": {},
   "source": [
    "### 배열:2562번:최댓값"
   ]
  },
  {
   "cell_type": "code",
   "execution_count": 9,
   "id": "90eddea6-a0d3-486a-a996-6c3a166a39ef",
   "metadata": {},
   "outputs": [
    {
     "name": "stdin",
     "output_type": "stream",
     "text": [
      " 3\n",
      " 29\n",
      " 38\n",
      " 12\n",
      " 57\n",
      " 74\n",
      " 40\n",
      " 85\n",
      " 61\n"
     ]
    },
    {
     "name": "stdout",
     "output_type": "stream",
     "text": [
      "85\n",
      "8\n"
     ]
    }
   ],
   "source": [
    "numbers = []\n",
    "for i in range(9):\n",
    "    numbers.append(int(input()))\n",
    "\n",
    "max_number = max(numbers)\n",
    "max_index = numbers.index(max_number) + 1\n",
    "print(max_number, max_index, sep = '\\n')\n",
    "    "
   ]
  },
  {
   "cell_type": "markdown",
   "id": "2366477a-64d0-435a-9166-01f39f219324",
   "metadata": {},
   "source": [
    "### 배열:10810:공 넣기"
   ]
  },
  {
   "cell_type": "code",
   "execution_count": 12,
   "id": "f1b7a32e-8f3b-418c-9c8e-7ef5985b6ee6",
   "metadata": {},
   "outputs": [
    {
     "name": "stdin",
     "output_type": "stream",
     "text": [
      " 5 4\n",
      " 1 2 3\n",
      " 3 2 1\n",
      " 1 1 1\n",
      " 2 4 2\n"
     ]
    },
    {
     "name": "stdout",
     "output_type": "stream",
     "text": [
      "1 2 2 2 0 "
     ]
    }
   ],
   "source": [
    "poket_num, limit_num = map(int, input().split())\n",
    "\n",
    "def choice_poket(poket_num, limit_num):\n",
    "    zero_list = [0] * poket_num\n",
    "    for i in range(limit_num):\n",
    "        start_num, end_num, change_num = map(int, input().split())\n",
    "        for j in range(start_num-1, end_num):\n",
    "            zero_list[j] = change_num\n",
    "    return zero_list\n",
    "\n",
    "results = choice_poket(poket_num, limit_num)\n",
    "for result in results:\n",
    "    print(result, end=' ')"
   ]
  },
  {
   "cell_type": "markdown",
   "id": "b4120b4d-0954-498c-ad56-2353abb5f2a3",
   "metadata": {},
   "source": [
    "### 배열:10813:공 바꾸기"
   ]
  },
  {
   "cell_type": "code",
   "execution_count": null,
   "id": "8d881f6c-8d32-4d37-b4fe-7e93707369cd",
   "metadata": {},
   "outputs": [],
   "source": [
    "poket_number, limit_number = map(int, input().split())\n",
    "\n",
    "def change_poket(poket_number, limit_number):\n",
    "    poket_list = []\n",
    "    for i in range(poket_number):\n",
    "        poket_list.append(i + 1)\n",
    "\n",
    "    for j in range(limit_number):\n",
    "        change_num1, change_num2 = map(int, input().split())\n",
    "        num1 = change_num2\n",
    "        num2 = change_num1\n",
    "        print(poket_list[poket_list.index(3)])\n",
    "        # poket_list[poket_list.index(change_num1)]= num1\n",
    "        # poket_list[poket_list.index(change_num2)]= num2\n",
    "    return poket_list\n",
    "\n",
    "print(change_poket(poket_number, limit_number))"
   ]
  },
  {
   "cell_type": "code",
   "execution_count": null,
   "id": "dbac6e8f-63d4-4e6d-a0bf-7a7d1b185799",
   "metadata": {},
   "outputs": [],
   "source": []
  },
  {
   "cell_type": "code",
   "execution_count": null,
   "id": "04327adc-1fd3-42ec-8d09-ee7279bbb29f",
   "metadata": {},
   "outputs": [],
   "source": []
  }
 ],
 "metadata": {
  "kernelspec": {
   "display_name": "Python 3 (ipykernel)",
   "language": "python",
   "name": "python3"
  },
  "language_info": {
   "codemirror_mode": {
    "name": "ipython",
    "version": 3
   },
   "file_extension": ".py",
   "mimetype": "text/x-python",
   "name": "python",
   "nbconvert_exporter": "python",
   "pygments_lexer": "ipython3",
   "version": "3.11.8"
  }
 },
 "nbformat": 4,
 "nbformat_minor": 5
}
