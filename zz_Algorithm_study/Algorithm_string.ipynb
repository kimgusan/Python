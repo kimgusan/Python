{
 "cells": [
  {
   "cell_type": "markdown",
   "id": "694d766a-5bee-413c-97d8-bf0374cadbf9",
   "metadata": {},
   "source": [
    "### 문자열:27866:문자와 문자열"
   ]
  },
  {
   "cell_type": "code",
   "execution_count": 8,
   "id": "17fe1865-1bfa-4c7a-8400-0a86f3f3d515",
   "metadata": {},
   "outputs": [
    {
     "name": "stdin",
     "output_type": "stream",
     "text": [
      " Baekjoon\n",
      " 4\n"
     ]
    },
    {
     "name": "stdout",
     "output_type": "stream",
     "text": [
      "k\n"
     ]
    }
   ],
   "source": [
    "str = input()\n",
    "number = int(input())\n",
    "print(str[number-1])"
   ]
  },
  {
   "cell_type": "markdown",
   "id": "2c78e5f8-7566-4e4d-badd-69c9a080bc5f",
   "metadata": {},
   "source": [
    "### 문자열:2743:단어 길이 재기"
   ]
  },
  {
   "cell_type": "code",
   "execution_count": 10,
   "id": "7f81467b-671e-4e5c-b672-0695f131ea32",
   "metadata": {},
   "outputs": [
    {
     "name": "stdin",
     "output_type": "stream",
     "text": [
      " pulljima\n"
     ]
    },
    {
     "name": "stdout",
     "output_type": "stream",
     "text": [
      "8\n"
     ]
    }
   ],
   "source": [
    "str = input()\n",
    "print(len(str))"
   ]
  },
  {
   "cell_type": "code",
   "execution_count": 17,
   "id": "fe970849-f30d-4645-a25f-edc4d1b5a433",
   "metadata": {},
   "outputs": [
    {
     "name": "stdin",
     "output_type": "stream",
     "text": [
      " 3\n",
      " adsf\n",
      " ad\n",
      " o\n"
     ]
    },
    {
     "name": "stdout",
     "output_type": "stream",
     "text": [
      "af ad oo "
     ]
    }
   ],
   "source": [
    "t_str = int(input())\n",
    "def f_e_str(t_str):\n",
    "    origin_str_list = []\n",
    "    for i in range(t_str):\n",
    "        origin_str_list.append(input())\n",
    "\n",
    "    first_end_str = []\n",
    "    for j in range(len(origin_str_list)):\n",
    "        first_end_str.append(origin_str_list[j][0] + origin_str_list[j][-1])\n",
    "    return first_end_str\n",
    "\n",
    "result = f_e_str(t_str)\n",
    "for string in result:\n",
    "    print(string, end = ' ')\n",
    "        "
   ]
  },
  {
   "cell_type": "markdown",
   "id": "c76b8c06-cd76-415e-916d-7976f164f825",
   "metadata": {},
   "source": [
    "### 문자열:11654:아스키코드"
   ]
  },
  {
   "cell_type": "code",
   "execution_count": 28,
   "id": "b1c2b8fe-7cb6-433b-b374-cea241ddd780",
   "metadata": {},
   "outputs": [
    {
     "name": "stdin",
     "output_type": "stream",
     "text": [
      " 0\n"
     ]
    },
    {
     "name": "stdout",
     "output_type": "stream",
     "text": [
      "48\n"
     ]
    }
   ],
   "source": [
    "str = input()\n",
    "print(ord(str))"
   ]
  },
  {
   "cell_type": "markdown",
   "id": "b3ebd35a-f155-4b9f-ac3d-be8ddb2fcb90",
   "metadata": {},
   "source": [
    "### 문자열:11720:숫자의 합"
   ]
  },
  {
   "cell_type": "code",
   "execution_count": 38,
   "id": "8215ba6b-ac65-4d80-b00b-bf9c092a45f9",
   "metadata": {},
   "outputs": [
    {
     "name": "stdin",
     "output_type": "stream",
     "text": [
      " 4\n",
      " 7142\n"
     ]
    },
    {
     "name": "stdout",
     "output_type": "stream",
     "text": [
      "14\n"
     ]
    }
   ],
   "source": [
    "length = int(input())\n",
    "\n",
    "def get_sum(length):\n",
    "    numbers = input()\n",
    "    number = 0\n",
    "    for i in numbers:\n",
    "        number += int(i)    \n",
    "    return number\n",
    "\n",
    "result = get_sum(length)\n",
    "print(result)"
   ]
  },
  {
   "cell_type": "markdown",
   "id": "c9ef7d76-86a2-45a0-b51e-a2dbac397cdf",
   "metadata": {},
   "source": [
    "### 문자열:10809번:알파벳찾기"
   ]
  },
  {
   "cell_type": "code",
   "execution_count": 40,
   "id": "17d1d90e-de37-41ef-9f4b-09fcb5026ad0",
   "metadata": {},
   "outputs": [
    {
     "data": {
      "text/plain": [
       "122"
      ]
     },
     "execution_count": 40,
     "metadata": {},
     "output_type": "execute_result"
    }
   ],
   "source": [
    "ord('z')"
   ]
  },
  {
   "cell_type": "code",
   "execution_count": 2,
   "id": "028e1238-7066-4eab-acdf-d48798a774ea",
   "metadata": {},
   "outputs": [
    {
     "name": "stdout",
     "output_type": "stream",
     "text": [
      "25\n"
     ]
    }
   ],
   "source": [
    "print(122-97)"
   ]
  },
  {
   "cell_type": "code",
   "execution_count": 18,
   "id": "e3d6641f-8fc4-4266-a9c0-044f3c331ada",
   "metadata": {},
   "outputs": [
    {
     "name": "stdin",
     "output_type": "stream",
     "text": [
      " baekjoon\n"
     ]
    },
    {
     "name": "stdout",
     "output_type": "stream",
     "text": [
      "1 0 -1 -1 2 -1 -1 -1 -1 4 3 -1 -1 7 5 -1 -1 -1 -1 -1 -1 -1 -1 -1 -1 -1 "
     ]
    }
   ],
   "source": [
    "string = input()\n",
    "def find_alpha(string):\n",
    "    string_list = [ord(i) for i in string]\n",
    "    origin_alpha_list = []\n",
    "    alpha_list = []\n",
    "    for i in range(ord('a'), ord('z') + 1):\n",
    "        alpha_list.append(i)\n",
    "        origin_alpha_list.append(i)\n",
    "\n",
    "    for j in string_list:\n",
    "        s_index = string_list.index(j)\n",
    "        if j in alpha_list:\n",
    "            a_index = alpha_list.index(j)\n",
    "            alpha_list[a_index] = s_index\n",
    "\n",
    "    for k in origin_alpha_list:\n",
    "        for l in range(len(alpha_list)):\n",
    "            if k == alpha_list[l]:\n",
    "                alpha_list[l] = -1\n",
    "            \n",
    "    return alpha_list\n",
    "\n",
    "result = find_alpha(string)\n",
    "\n",
    "for i in result:\n",
    "    print(i, end = ' ')"
   ]
  },
  {
   "cell_type": "code",
   "execution_count": 19,
   "id": "eadbf35d-dbab-408c-9b8a-4eda6ae10ac2",
   "metadata": {},
   "outputs": [
    {
     "name": "stdin",
     "output_type": "stream",
     "text": [
      " baekjoon\n"
     ]
    },
    {
     "name": "stdout",
     "output_type": "stream",
     "text": [
      "1 0 -1 -1 2 -1 -1 -1 -1 4 3 -1 -1 7 5 -1 -1 -1 -1 -1 -1 -1 -1 -1 -1 -1 "
     ]
    }
   ],
   "source": [
    "string = input()\n",
    "def find_alpha(string):\n",
    "    alpha_list = [-1] * 26\n",
    "\n",
    "    for index, char in enumerate(string):\n",
    "        if 'a' <= char <= 'z':  # 소문자 범위 내에 있을 때\n",
    "            alpha_index = ord(char) - ord('a')\n",
    "            if alpha_list[alpha_index] == -1:  # 첫 번째로 발견된 경우에만 업데이트\n",
    "                alpha_list[alpha_index] = index\n",
    "\n",
    "    return alpha_list\n",
    "\n",
    "\n",
    "result = find_alpha(string)\n",
    "\n",
    "for i in result:\n",
    "    print(i, end = ' ')"
   ]
  },
  {
   "cell_type": "code",
   "execution_count": null,
   "id": "b8894289-00e6-49f5-a4d5-ca558461d443",
   "metadata": {},
   "outputs": [],
   "source": []
  },
  {
   "cell_type": "code",
   "execution_count": null,
   "id": "52c368de-4240-4d73-8f6e-f43f7638b936",
   "metadata": {},
   "outputs": [],
   "source": []
  },
  {
   "cell_type": "code",
   "execution_count": null,
   "id": "942d51b3-5543-4790-a4e0-c893c8e980e8",
   "metadata": {},
   "outputs": [],
   "source": []
  }
 ],
 "metadata": {
  "kernelspec": {
   "display_name": "Python 3 (ipykernel)",
   "language": "python",
   "name": "python3"
  },
  "language_info": {
   "codemirror_mode": {
    "name": "ipython",
    "version": 3
   },
   "file_extension": ".py",
   "mimetype": "text/x-python",
   "name": "python",
   "nbconvert_exporter": "python",
   "pygments_lexer": "ipython3",
   "version": "3.11.8"
  }
 },
 "nbformat": 4,
 "nbformat_minor": 5
}
