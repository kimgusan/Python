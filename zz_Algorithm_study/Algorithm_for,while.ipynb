{
 "cells": [
  {
   "cell_type": "markdown",
   "id": "77395100-3915-40c2-9260-d5724730ef15",
   "metadata": {},
   "source": [
    "### 반복문:2739:구구단"
   ]
  },
  {
   "cell_type": "code",
   "execution_count": 2,
   "id": "01a885eb-43e0-4be0-92d3-06ffc2e520e6",
   "metadata": {},
   "outputs": [
    {
     "name": "stdin",
     "output_type": "stream",
     "text": [
      " 4\n"
     ]
    },
    {
     "name": "stdout",
     "output_type": "stream",
     "text": [
      "4 * 1 = 4\n",
      "4 * 2 = 8\n",
      "4 * 3 = 12\n",
      "4 * 4 = 16\n",
      "4 * 5 = 20\n",
      "4 * 6 = 24\n",
      "4 * 7 = 28\n",
      "4 * 8 = 32\n",
      "4 * 9 = 36\n"
     ]
    }
   ],
   "source": [
    "num1 = int(input())\n",
    "\n",
    "for i in range(1,10):\n",
    "    print(f\"{num1} * {i} = {num1 * i}\")"
   ]
  },
  {
   "cell_type": "markdown",
   "id": "9554b512-bb95-4f2b-ad2d-0ceb15e626d8",
   "metadata": {},
   "source": [
    "### 반복문:10950: A+B -3"
   ]
  },
  {
   "cell_type": "code",
   "execution_count": 4,
   "id": "e4e95a62-b8f4-4e5c-8a74-60258556e214",
   "metadata": {},
   "outputs": [
    {
     "name": "stdin",
     "output_type": "stream",
     "text": [
      " 5\n",
      " 1 1\n"
     ]
    },
    {
     "name": "stdout",
     "output_type": "stream",
     "text": [
      "2\n"
     ]
    },
    {
     "name": "stdin",
     "output_type": "stream",
     "text": [
      " 2 3\n"
     ]
    },
    {
     "name": "stdout",
     "output_type": "stream",
     "text": [
      "5\n"
     ]
    },
    {
     "name": "stdin",
     "output_type": "stream",
     "text": [
      " 3 4\n"
     ]
    },
    {
     "name": "stdout",
     "output_type": "stream",
     "text": [
      "7\n"
     ]
    },
    {
     "name": "stdin",
     "output_type": "stream",
     "text": [
      " 9 8\n"
     ]
    },
    {
     "name": "stdout",
     "output_type": "stream",
     "text": [
      "17\n"
     ]
    },
    {
     "name": "stdin",
     "output_type": "stream",
     "text": [
      " 5 2\n"
     ]
    },
    {
     "name": "stdout",
     "output_type": "stream",
     "text": [
      "7\n"
     ]
    }
   ],
   "source": [
    "range_num = int(input())\n",
    "\n",
    "for i in range(range_num):\n",
    "    num1, num2 = map(int, input().split())\n",
    "    0 < num1\n",
    "    num2 < 10\n",
    "    print(f\"{num1 + num2}\")\n",
    "    "
   ]
  },
  {
   "cell_type": "markdown",
   "id": "f5040463-438d-4653-b2a5-84f1fb020e84",
   "metadata": {},
   "source": [
    "### 반복문:8393:합"
   ]
  },
  {
   "cell_type": "code",
   "execution_count": 6,
   "id": "e9a1c026-c0ed-45a0-b0e7-4b430ac5b2f4",
   "metadata": {},
   "outputs": [
    {
     "name": "stdin",
     "output_type": "stream",
     "text": [
      " 3\n"
     ]
    },
    {
     "name": "stdout",
     "output_type": "stream",
     "text": [
      "6\n"
     ]
    }
   ],
   "source": [
    "number = int(input())\n",
    "\n",
    "1 <= number <= 10000\n",
    "result = 0\n",
    "\n",
    "for i in range(1, number + 1):\n",
    "    result += i\n",
    "\n",
    "print(result)\n",
    "    "
   ]
  },
  {
   "cell_type": "markdown",
   "id": "7b53d24a-b1af-4e21-8fb2-3dadf0658086",
   "metadata": {},
   "source": [
    "### 반복문:25304:영수증"
   ]
  },
  {
   "cell_type": "code",
   "execution_count": 10,
   "id": "9f799ec9-aa20-48b3-b6d2-886a28328121",
   "metadata": {},
   "outputs": [
    {
     "name": "stdin",
     "output_type": "stream",
     "text": [
      " 10\n",
      " 1\n",
      " 10 1\n"
     ]
    },
    {
     "name": "stdout",
     "output_type": "stream",
     "text": [
      "Yes\n"
     ]
    }
   ],
   "source": [
    "total_price = int(input())\n",
    "1 <= total_price <= 1000000000\n",
    "\n",
    "total_count = int(input())\n",
    "1 <= total_count <= 100\n",
    "\n",
    "while total_count != 0:\n",
    "    total_count -= 1\n",
    "    price, count = map(int, input().split())\n",
    "    total_price -= price * count\n",
    "\n",
    "if total_price == 0:\n",
    "    print('Yes')\n",
    "else:\n",
    "    print('No')\n",
    "\n",
    "\n"
   ]
  },
  {
   "cell_type": "markdown",
   "id": "8f95b03f-ae9e-42fd-a4db-b411b8d33e38",
   "metadata": {},
   "source": [
    "### 반복문:25314:코딩은 체육과목 입니다"
   ]
  },
  {
   "cell_type": "code",
   "execution_count": 27,
   "id": "d31325f3-d33d-491f-9024-98af1380ba20",
   "metadata": {},
   "outputs": [
    {
     "name": "stdin",
     "output_type": "stream",
     "text": [
      " 20\n"
     ]
    },
    {
     "name": "stdout",
     "output_type": "stream",
     "text": [
      "long long long long long int\n"
     ]
    }
   ],
   "source": [
    "number = int(input())\n",
    "4 <= number <= 1000\n",
    "count = 0\n",
    "\n",
    "while number:\n",
    "    number -= 4\n",
    "    count += 1\n",
    "\n",
    "text = 'long ' * count + 'int'\n",
    "print(text)"
   ]
  },
  {
   "cell_type": "markdown",
   "id": "fb4d9047-23f6-4b06-8234-0708db9e391f",
   "metadata": {},
   "source": [
    "### 반복문:15552:빠른 A+B"
   ]
  },
  {
   "cell_type": "code",
   "execution_count": 28,
   "id": "c4054947-81a6-4aa3-9888-45fcc19ec6bb",
   "metadata": {},
   "outputs": [
    {
     "name": "stdin",
     "output_type": "stream",
     "text": [
      " 5\n",
      " 1 1\n"
     ]
    },
    {
     "name": "stdout",
     "output_type": "stream",
     "text": [
      "2\n"
     ]
    },
    {
     "name": "stdin",
     "output_type": "stream",
     "text": [
      " 12 34\n"
     ]
    },
    {
     "name": "stdout",
     "output_type": "stream",
     "text": [
      "46\n"
     ]
    },
    {
     "name": "stdin",
     "output_type": "stream",
     "text": [
      " 5 500\n"
     ]
    },
    {
     "name": "stdout",
     "output_type": "stream",
     "text": [
      "505\n"
     ]
    },
    {
     "name": "stdin",
     "output_type": "stream",
     "text": [
      " 40 60\n"
     ]
    },
    {
     "name": "stdout",
     "output_type": "stream",
     "text": [
      "100\n"
     ]
    },
    {
     "name": "stdin",
     "output_type": "stream",
     "text": [
      " 1000 1000\n"
     ]
    },
    {
     "name": "stdout",
     "output_type": "stream",
     "text": [
      "2000\n"
     ]
    }
   ],
   "source": [
    "count = int(input())\n",
    "count < 1000000\n",
    "\n",
    "while count:\n",
    "    count -= 1\n",
    "    num1, num2 = map(int, input().split())\n",
    "    1 <= num1, num2 <= 1000\n",
    "    print(num1 + num2)"
   ]
  },
  {
   "cell_type": "code",
   "execution_count": null,
   "id": "42c2890d-bdf0-4f54-aff2-6dcd0247b867",
   "metadata": {},
   "outputs": [],
   "source": [
    "# PyPy를 이용한 Python의 JIT(Just-In-Time) 컴파일러로, 일반 Python 코드보다 더 빠른 성능을 제공할 수 있기 떄문에 사용한다.\n",
    "import sys\n",
    "# 모든 입력을 한번에 읽어서 성능을 개선하기 위한 함수\n",
    "input = sys.stdin.read\n",
    "# 입력 데이터를 공백을 기준으로 나눈다.\n",
    "data = input().split()\n",
    "\n",
    "# 첫 번째 줄의 카운트를 읽습니다.\n",
    "count = int(data[0])\n",
    "\n",
    "index = 1\n",
    "results = []\n",
    "\n",
    "while count > 0:\n",
    "    # 각 쌍의 숫자를 읽고 결과를 저장합니다.\n",
    "    num1 = int(data[index])\n",
    "    num2 = int(data[index + 1])\n",
    "    results.append(num1 + num2)\n",
    "    \n",
    "    # 인덱스를 2씩 증가시킵니다.\n",
    "    index += 2\n",
    "    count -= 1\n",
    "\n",
    "# 결과를 출력합니다.\n",
    "# print 보다 조금 더 속도가 개선된 형태입니다. \n",
    "# sys.stdout.write\n",
    "sys.stdout.write(\"\\n\".join(map(str, results)) + \"\\n\")\n"
   ]
  },
  {
   "cell_type": "markdown",
   "id": "05bfb079-01c4-4a57-8f52-8935bc246c6f",
   "metadata": {},
   "source": [
    "### 반복문:11021: A+B -7"
   ]
  },
  {
   "cell_type": "code",
   "execution_count": 29,
   "id": "b4122eb4-19ff-477d-a79b-1729949ed9f6",
   "metadata": {},
   "outputs": [
    {
     "name": "stdin",
     "output_type": "stream",
     "text": [
      " 5\n",
      " 1 1\n"
     ]
    },
    {
     "name": "stdout",
     "output_type": "stream",
     "text": [
      "Case #1: 2\n"
     ]
    },
    {
     "name": "stdin",
     "output_type": "stream",
     "text": [
      " 2 3\n"
     ]
    },
    {
     "name": "stdout",
     "output_type": "stream",
     "text": [
      "Case #2: 5\n"
     ]
    },
    {
     "name": "stdin",
     "output_type": "stream",
     "text": [
      " 3 4\n"
     ]
    },
    {
     "name": "stdout",
     "output_type": "stream",
     "text": [
      "Case #3: 7\n"
     ]
    },
    {
     "name": "stdin",
     "output_type": "stream",
     "text": [
      " 9 8\n"
     ]
    },
    {
     "name": "stdout",
     "output_type": "stream",
     "text": [
      "Case #4: 17\n"
     ]
    },
    {
     "name": "stdin",
     "output_type": "stream",
     "text": [
      " 5 2\n"
     ]
    },
    {
     "name": "stdout",
     "output_type": "stream",
     "text": [
      "Case #5: 7\n"
     ]
    }
   ],
   "source": [
    "count = int(input())\n",
    "\n",
    "for i in range(1, count+1):\n",
    "    count -= 1\n",
    "    num1, num2 = map(int, input().split())\n",
    "    0 < num1, num2 < 10\n",
    "    print(f\"Case #{i}: {num1 + num2}\")"
   ]
  },
  {
   "cell_type": "markdown",
   "id": "ea8cdd04-778d-42c7-859d-cdd4259764e2",
   "metadata": {},
   "source": [
    "### 반복문:11022: A+B -8"
   ]
  },
  {
   "cell_type": "code",
   "execution_count": 30,
   "id": "aa68819e-8f9b-402d-aced-23f65d1acd99",
   "metadata": {},
   "outputs": [
    {
     "name": "stdin",
     "output_type": "stream",
     "text": [
      " 5\n",
      " 1 1\n"
     ]
    },
    {
     "name": "stdout",
     "output_type": "stream",
     "text": [
      "Case #1: 1 + 1 = 2\n"
     ]
    },
    {
     "name": "stdin",
     "output_type": "stream",
     "text": [
      " 2 3\n"
     ]
    },
    {
     "name": "stdout",
     "output_type": "stream",
     "text": [
      "Case #2: 2 + 3 = 5\n"
     ]
    },
    {
     "name": "stdin",
     "output_type": "stream",
     "text": [
      " 3 4\n"
     ]
    },
    {
     "name": "stdout",
     "output_type": "stream",
     "text": [
      "Case #3: 3 + 4 = 7\n"
     ]
    },
    {
     "name": "stdin",
     "output_type": "stream",
     "text": [
      " 9 8\n"
     ]
    },
    {
     "name": "stdout",
     "output_type": "stream",
     "text": [
      "Case #4: 9 + 8 = 17\n"
     ]
    },
    {
     "name": "stdin",
     "output_type": "stream",
     "text": [
      " 5 2\n"
     ]
    },
    {
     "name": "stdout",
     "output_type": "stream",
     "text": [
      "Case #5: 5 + 2 = 7\n"
     ]
    }
   ],
   "source": [
    "count = int(input())\n",
    "\n",
    "for i in range(1, count+1):\n",
    "    count -= 1\n",
    "    num1, num2 = map(int, input().split())\n",
    "    0 < num1, num2 < 10\n",
    "    print(f\"Case #{i}: {num1} + {num2} = {num1 + num2}\")"
   ]
  },
  {
   "cell_type": "markdown",
   "id": "b498e317-2340-471c-90ed-2800287ad1f8",
   "metadata": {},
   "source": [
    "### 반복문:2438:별찍기 -1"
   ]
  },
  {
   "cell_type": "code",
   "execution_count": 31,
   "id": "094e1fd7-2283-4690-aff2-2d1586ff4107",
   "metadata": {},
   "outputs": [
    {
     "name": "stdin",
     "output_type": "stream",
     "text": [
      " 5\n"
     ]
    },
    {
     "name": "stdout",
     "output_type": "stream",
     "text": [
      "*\n",
      "**\n",
      "***\n",
      "****\n"
     ]
    }
   ],
   "source": [
    "count = int(input())\n",
    "\n",
    "1 <= count <= 100\n",
    "\n",
    "for i in range(1, count+1):\n",
    "    print('*' * i)\n"
   ]
  },
  {
   "cell_type": "markdown",
   "id": "293938c6-730d-416e-9cb0-901c0c70b517",
   "metadata": {},
   "source": [
    "### 반복문:2439:별찍기 -2"
   ]
  },
  {
   "cell_type": "code",
   "execution_count": 37,
   "id": "e6be8ba2-53f1-4a04-95f4-81f67768b57b",
   "metadata": {},
   "outputs": [
    {
     "name": "stdin",
     "output_type": "stream",
     "text": [
      " 10\n"
     ]
    },
    {
     "name": "stdout",
     "output_type": "stream",
     "text": [
      "         *\n",
      "        **\n",
      "       ***\n",
      "      ****\n",
      "     *****\n",
      "    ******\n",
      "   *******\n",
      "  ********\n",
      " *********\n",
      "**********\n"
     ]
    }
   ],
   "source": [
    "count = int(input())\n",
    "star = 1\n",
    "1 <= count <= 100\n",
    "\n",
    "while count:\n",
    "    count -= 1\n",
    "    print(' ' * count + '*' * star)\n",
    "    star += 1"
   ]
  },
  {
   "cell_type": "markdown",
   "id": "a77be06a-ec98-45cf-8262-0cc82fbfe9f7",
   "metadata": {},
   "source": [
    "### 반복문:10952:A+B -5"
   ]
  },
  {
   "cell_type": "code",
   "execution_count": 48,
   "id": "a9c9b2c0-b934-43c5-ab36-5c4adf44b99a",
   "metadata": {},
   "outputs": [
    {
     "name": "stdin",
     "output_type": "stream",
     "text": [
      " 1 1\n"
     ]
    },
    {
     "name": "stdout",
     "output_type": "stream",
     "text": [
      "2\n"
     ]
    },
    {
     "name": "stdin",
     "output_type": "stream",
     "text": [
      " 2 3\n"
     ]
    },
    {
     "name": "stdout",
     "output_type": "stream",
     "text": [
      "5\n"
     ]
    },
    {
     "name": "stdin",
     "output_type": "stream",
     "text": [
      " 3 4\n"
     ]
    },
    {
     "name": "stdout",
     "output_type": "stream",
     "text": [
      "7\n"
     ]
    },
    {
     "name": "stdin",
     "output_type": "stream",
     "text": [
      " 9 8\n"
     ]
    },
    {
     "name": "stdout",
     "output_type": "stream",
     "text": [
      "17\n"
     ]
    },
    {
     "name": "stdin",
     "output_type": "stream",
     "text": [
      " 5 2\n"
     ]
    },
    {
     "name": "stdout",
     "output_type": "stream",
     "text": [
      "7\n"
     ]
    },
    {
     "name": "stdin",
     "output_type": "stream",
     "text": [
      " 0 0\n"
     ]
    }
   ],
   "source": [
    "check = True\n",
    "\n",
    "while check:\n",
    "    num1, num2 = map(int, input().split())\n",
    "    if num1 == 0 and num2 == 0:\n",
    "        check = False\n",
    "    else:\n",
    "        if 0 < num1 < 10 and 0 < num2 < 10:\n",
    "            print(num1 + num2)"
   ]
  },
  {
   "cell_type": "markdown",
   "id": "af45189e-4e3e-4d3e-87a1-5d58bee79be2",
   "metadata": {},
   "source": [
    "### 반복문:10951:\bA+B -4"
   ]
  },
  {
   "cell_type": "code",
   "execution_count": 49,
   "id": "f74bdd62-3424-47da-b5bb-d0680c5d764d",
   "metadata": {},
   "outputs": [
    {
     "name": "stdin",
     "output_type": "stream",
     "text": [
      " 1 1\n"
     ]
    },
    {
     "name": "stdout",
     "output_type": "stream",
     "text": [
      "2\n"
     ]
    },
    {
     "name": "stdin",
     "output_type": "stream",
     "text": [
      " 2 3\n"
     ]
    },
    {
     "name": "stdout",
     "output_type": "stream",
     "text": [
      "5\n"
     ]
    },
    {
     "name": "stdin",
     "output_type": "stream",
     "text": [
      " 3 4\n"
     ]
    },
    {
     "name": "stdout",
     "output_type": "stream",
     "text": [
      "7\n"
     ]
    },
    {
     "name": "stdin",
     "output_type": "stream",
     "text": [
      " 9 8\n"
     ]
    },
    {
     "name": "stdout",
     "output_type": "stream",
     "text": [
      "17\n"
     ]
    },
    {
     "name": "stdin",
     "output_type": "stream",
     "text": [
      " 5 2\n"
     ]
    },
    {
     "name": "stdout",
     "output_type": "stream",
     "text": [
      "7\n"
     ]
    },
    {
     "ename": "KeyboardInterrupt",
     "evalue": "Interrupted by user",
     "output_type": "error",
     "traceback": [
      "\u001b[0;31m---------------------------------------------------------------------------\u001b[0m",
      "\u001b[0;31mKeyboardInterrupt\u001b[0m                         Traceback (most recent call last)",
      "Cell \u001b[0;32mIn[49], line 4\u001b[0m\n\u001b[1;32m      1\u001b[0m check \u001b[38;5;241m=\u001b[39m \u001b[38;5;28;01mTrue\u001b[39;00m\n\u001b[1;32m      3\u001b[0m \u001b[38;5;28;01mwhile\u001b[39;00m check:\n\u001b[0;32m----> 4\u001b[0m     num1, num2 \u001b[38;5;241m=\u001b[39m \u001b[38;5;28mmap\u001b[39m(\u001b[38;5;28mint\u001b[39m, \u001b[38;5;28minput\u001b[39m()\u001b[38;5;241m.\u001b[39msplit())\n\u001b[1;32m      5\u001b[0m     \u001b[38;5;28mprint\u001b[39m(\u001b[38;5;124mf\u001b[39m\u001b[38;5;124m\"\u001b[39m\u001b[38;5;132;01m{\u001b[39;00mnum1\u001b[38;5;250m \u001b[39m\u001b[38;5;241m+\u001b[39m\u001b[38;5;250m \u001b[39mnum2\u001b[38;5;132;01m}\u001b[39;00m\u001b[38;5;124m\"\u001b[39m)\n",
      "File \u001b[0;32m/opt/anaconda3/lib/python3.11/site-packages/ipykernel/kernelbase.py:1262\u001b[0m, in \u001b[0;36mKernel.raw_input\u001b[0;34m(self, prompt)\u001b[0m\n\u001b[1;32m   1260\u001b[0m     msg \u001b[38;5;241m=\u001b[39m \u001b[38;5;124m\"\u001b[39m\u001b[38;5;124mraw_input was called, but this frontend does not support input requests.\u001b[39m\u001b[38;5;124m\"\u001b[39m\n\u001b[1;32m   1261\u001b[0m     \u001b[38;5;28;01mraise\u001b[39;00m StdinNotImplementedError(msg)\n\u001b[0;32m-> 1262\u001b[0m \u001b[38;5;28;01mreturn\u001b[39;00m \u001b[38;5;28mself\u001b[39m\u001b[38;5;241m.\u001b[39m_input_request(\n\u001b[1;32m   1263\u001b[0m     \u001b[38;5;28mstr\u001b[39m(prompt),\n\u001b[1;32m   1264\u001b[0m     \u001b[38;5;28mself\u001b[39m\u001b[38;5;241m.\u001b[39m_parent_ident[\u001b[38;5;124m\"\u001b[39m\u001b[38;5;124mshell\u001b[39m\u001b[38;5;124m\"\u001b[39m],\n\u001b[1;32m   1265\u001b[0m     \u001b[38;5;28mself\u001b[39m\u001b[38;5;241m.\u001b[39mget_parent(\u001b[38;5;124m\"\u001b[39m\u001b[38;5;124mshell\u001b[39m\u001b[38;5;124m\"\u001b[39m),\n\u001b[1;32m   1266\u001b[0m     password\u001b[38;5;241m=\u001b[39m\u001b[38;5;28;01mFalse\u001b[39;00m,\n\u001b[1;32m   1267\u001b[0m )\n",
      "File \u001b[0;32m/opt/anaconda3/lib/python3.11/site-packages/ipykernel/kernelbase.py:1305\u001b[0m, in \u001b[0;36mKernel._input_request\u001b[0;34m(self, prompt, ident, parent, password)\u001b[0m\n\u001b[1;32m   1302\u001b[0m \u001b[38;5;28;01mexcept\u001b[39;00m \u001b[38;5;167;01mKeyboardInterrupt\u001b[39;00m:\n\u001b[1;32m   1303\u001b[0m     \u001b[38;5;66;03m# re-raise KeyboardInterrupt, to truncate traceback\u001b[39;00m\n\u001b[1;32m   1304\u001b[0m     msg \u001b[38;5;241m=\u001b[39m \u001b[38;5;124m\"\u001b[39m\u001b[38;5;124mInterrupted by user\u001b[39m\u001b[38;5;124m\"\u001b[39m\n\u001b[0;32m-> 1305\u001b[0m     \u001b[38;5;28;01mraise\u001b[39;00m \u001b[38;5;167;01mKeyboardInterrupt\u001b[39;00m(msg) \u001b[38;5;28;01mfrom\u001b[39;00m \u001b[38;5;28;01mNone\u001b[39;00m\n\u001b[1;32m   1306\u001b[0m \u001b[38;5;28;01mexcept\u001b[39;00m \u001b[38;5;167;01mException\u001b[39;00m:\n\u001b[1;32m   1307\u001b[0m     \u001b[38;5;28mself\u001b[39m\u001b[38;5;241m.\u001b[39mlog\u001b[38;5;241m.\u001b[39mwarning(\u001b[38;5;124m\"\u001b[39m\u001b[38;5;124mInvalid Message:\u001b[39m\u001b[38;5;124m\"\u001b[39m, exc_info\u001b[38;5;241m=\u001b[39m\u001b[38;5;28;01mTrue\u001b[39;00m)\n",
      "\u001b[0;31mKeyboardInterrupt\u001b[0m: Interrupted by user"
     ]
    }
   ],
   "source": [
    "check = True\n",
    "\n",
    "while check:\n",
    "    try:\n",
    "        num1, num2 = map(int, input().split())\n",
    "        print(f\"{num1 + num2}\")\n",
    "    except:\n",
    "        break"
   ]
  },
  {
   "cell_type": "code",
   "execution_count": null,
   "id": "1445c23d-4693-4c8c-a4df-277a8d5ea34d",
   "metadata": {},
   "outputs": [],
   "source": []
  },
  {
   "cell_type": "code",
   "execution_count": null,
   "id": "a321227a-d33d-468e-aae8-c60f1dc5f248",
   "metadata": {},
   "outputs": [],
   "source": []
  },
  {
   "cell_type": "code",
   "execution_count": null,
   "id": "a4df4ef6-b6b0-4274-b61d-8917a074effe",
   "metadata": {},
   "outputs": [],
   "source": []
  }
 ],
 "metadata": {
  "kernelspec": {
   "display_name": "Python 3 (ipykernel)",
   "language": "python",
   "name": "python3"
  },
  "language_info": {
   "codemirror_mode": {
    "name": "ipython",
    "version": 3
   },
   "file_extension": ".py",
   "mimetype": "text/x-python",
   "name": "python",
   "nbconvert_exporter": "python",
   "pygments_lexer": "ipython3",
   "version": "3.11.8"
  }
 },
 "nbformat": 4,
 "nbformat_minor": 5
}
