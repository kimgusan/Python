{
 "cells": [
  {
   "cell_type": "markdown",
   "id": "e91dd1ca-0f02-433a-9f3e-073122e840b9",
   "metadata": {},
   "source": [
    "### 1. 조건문:2884:알람시계"
   ]
  },
  {
   "cell_type": "code",
   "execution_count": 78,
   "id": "08412399-fd16-46ee-824b-de1c69b0aa06",
   "metadata": {},
   "outputs": [
    {
     "name": "stdin",
     "output_type": "stream",
     "text": [
      " 17 0\n"
     ]
    },
    {
     "name": "stdout",
     "output_type": "stream",
     "text": [
      "16 15\n"
     ]
    }
   ],
   "source": [
    "origin_hour, origin_min = map(int, input().split())\n",
    "\n",
    "0 <= origin_hour <= 23\n",
    "0 <= origin_min <= 59\n",
    "\n",
    "def alarm_time(origin_hour, origin_min):\n",
    "    origin_min -= 45\n",
    "    if origin_min < 0:\n",
    "        origin_min = 60 - abs(origin_min)\n",
    "        if origin_hour != 0:\n",
    "            origin_hour -= 1\n",
    "        else:\n",
    "            origin_hour = 23 \n",
    "    return origin_hour, origin_min\n",
    "\n",
    "hour, min = alarm_time(origin_hour, origin_min)\n",
    "print(hour, min)\n",
    "\n"
   ]
  },
  {
   "cell_type": "markdown",
   "id": "0c0b5d41-9e59-4b3a-94bd-fd454060b2c5",
   "metadata": {},
   "source": [
    "### 2. 조건문:2525:오븐시계"
   ]
  },
  {
   "cell_type": "code",
   "execution_count": 79,
   "id": "8dc5feca-9357-47dd-9fa0-b6fa1eab43af",
   "metadata": {},
   "outputs": [
    {
     "name": "stdin",
     "output_type": "stream",
     "text": [
      " 23 50\n",
      " 20\n"
     ]
    },
    {
     "name": "stdout",
     "output_type": "stream",
     "text": [
      "0 10\n"
     ]
    }
   ],
   "source": [
    "current_hour, current_min = map(int, input().split())\n",
    "runtime = int(input())\n",
    "\n",
    "0 <= current_hour <= 23\n",
    "0 <= current_min <= 23\n",
    "0 <= runtime <= 1000\n",
    "\n",
    "def oven_time(current_hour, current_min, runtime):\n",
    "    add_hour = 0\n",
    "    current_min += runtime\n",
    "    if current_min >= 60:\n",
    "        add_hour = current_min // 60\n",
    "        add_min = current_min % 60\n",
    "        current_hour += add_hour\n",
    "        current_min = add_min\n",
    "        if current_hour >= 24:\n",
    "            current_hour = current_hour % 24\n",
    "    return current_hour, current_min\n",
    "\n",
    "hour, min = oven_time(current_hour, current_min, runtime)\n",
    "print(hour, min)"
   ]
  },
  {
   "cell_type": "markdown",
   "id": "6012c253-3fab-466e-9194-0d83c27b176e",
   "metadata": {},
   "source": [
    "### 조건문:2480:주사위 세개"
   ]
  },
  {
   "cell_type": "code",
   "execution_count": 77,
   "id": "ec964d8d-7bae-47db-86c5-05ad5a25de8e",
   "metadata": {},
   "outputs": [
    {
     "name": "stdin",
     "output_type": "stream",
     "text": [
      " 6 2 5\n"
     ]
    },
    {
     "name": "stdout",
     "output_type": "stream",
     "text": [
      "600\n"
     ]
    }
   ],
   "source": [
    "num1, num2, num3 = map(int, input().split())\n",
    "\n",
    "def price(num1, num2, num3):\n",
    "    total_price = 0\n",
    "    if num1 == num2 == num3:\n",
    "        total_price = 10000 + (num1 * 1000)\n",
    "    elif num1 == num2 or num1 == num3 or num2 == num3:\n",
    "        if num1 == num2 or num1 == num3:\n",
    "            total_price = 1000 + (num1 * 100)\n",
    "        else:\n",
    "            total_price = 1000 + (num2 * 100)\n",
    "    else:\n",
    "        if num1 > num2:\n",
    "            if num1 > num3:\n",
    "                total_price = num1 * 100\n",
    "            else:\n",
    "                total_price = num3 * 100\n",
    "        elif num2 > num1:\n",
    "            if num2 > num3:\n",
    "                total_price = num2 * 100\n",
    "            else:\n",
    "                total_price = num3 * 100\n",
    "\n",
    "    return total_price\n",
    "\n",
    "price = price(num1, num2, num3)\n",
    "print(price)"
   ]
  }
 ],
 "metadata": {
  "kernelspec": {
   "display_name": "Python 3 (ipykernel)",
   "language": "python",
   "name": "python3"
  },
  "language_info": {
   "codemirror_mode": {
    "name": "ipython",
    "version": 3
   },
   "file_extension": ".py",
   "mimetype": "text/x-python",
   "name": "python",
   "nbconvert_exporter": "python",
   "pygments_lexer": "ipython3",
   "version": "3.11.8"
  }
 },
 "nbformat": 4,
 "nbformat_minor": 5
}
